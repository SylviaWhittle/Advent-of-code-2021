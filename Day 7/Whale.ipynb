{
 "cells": [
  {
   "cell_type": "code",
   "execution_count": 3,
   "metadata": {},
   "outputs": [
    {
     "name": "stdout",
     "output_type": "stream",
     "text": [
      "average: 2.0\n"
     ]
    }
   ],
   "source": [
    "import numpy as np\n",
    "crab_positions = np.array([16,1,2,0,4,2,7,1,2,14])\n",
    "average = np.median(crab_positions)\n",
    "# average = sum(crab_positions)/len(crab_positions)\n",
    "print(f'average: {average}')"
   ]
  },
  {
   "cell_type": "code",
   "execution_count": 4,
   "metadata": {},
   "outputs": [
    {
     "name": "stdout",
     "output_type": "stream",
     "text": [
      "median: 337.0\n",
      "total_fuel: 342641\n"
     ]
    }
   ],
   "source": [
    "# The position that has the smallest total distance to all, is the median\n",
    "with open('input.txt', 'r') as file:\n",
    "    crab_positions = np.array(file.read().split(','), dtype=int)\n",
    "# print(crab_positions)\n",
    "optimal_position = np.median(crab_positions)\n",
    "print(f'median: {optimal_position}')\n",
    "\n",
    "total_fuel = int(sum(abs(optimal_position - i) for i in crab_positions))\n",
    "print(f'total_fuel: {total_fuel}')\n"
   ]
  },
  {
   "cell_type": "markdown",
   "metadata": {},
   "source": [
    "## Part 2\n",
    "The cost now increases by 1 per step. \n",
    "For example, going from position 1 to 5: 1 + 2 + 3 + 4 = 10.\n",
    "\n",
    "The numbers increasing each time form what are known as triangle numbers, since they can form a triangle. \n",
    "\n",
    "The equation for the traingle number totals is:\n",
    "\n",
    "$$\n",
    "\\frac{n (n+1)}{2}\n",
    "$$\n",
    "\n",
    "This is the cost of the distance where n is the distance between the crab's position and the destination.\n",
    "\n",
    "For a random distribution of positions, we will denote the converging position as P.\n",
    "\n",
    "The positions will be denoted $x_i$, and their costs will be $c_i$. The distances from the converging position can be expressed as: $n_i = |x_i - P|$.\n",
    "\n",
    "The total cost of movement, which we will call C is:\n",
    "\n",
    "$$\n",
    "C = \\sum_i \\frac{n_i (n_i + 1)}{2}\n",
    "$$\n",
    "\n",
    "In terms of positions, this can be expressed as:\n",
    "\n",
    "$$\n",
    "C = \\sum_i \\frac{(x_i - P)^2 + |x_i - P|}{2} = \\sum_i \\frac{x_i^2 - 2Px_i - P^2 + |x_i - P|}{2}\n",
    "$$\n",
    "\n",
    "We wish to find the P that gives the smallest C, therefore we differentiate C with respect to P:\n",
    "\n",
    "$$\n",
    "\\frac{dC}{dP} = \\sum_i \\frac{(2(P-x_i) + sign(x_i - P))}{2}\n",
    "$$\n",
    "\n",
    "Note that the derivative of abs, is the sign of the term, as shown here thanks to Desmos:\n",
    "\n",
    "\n",
    "# ![title](Derivative_of_abs.png)\n",
    "\n",
    "\n",
    "Setting this derivative to zero, we find:\n",
    "\n",
    "$$\n",
    "\\sum_i \\frac{2P - 2x_i + sign(x_i - P)}{2} = 0\n",
    "$$\n",
    "\n",
    "$$\n",
    "\\sum_i P - x_i + \\frac{sign(x_i - P)}{2} = 0\n",
    "$$\n",
    "\n",
    "$$\n",
    "n P - \\sum_i x_i + \\sum_i \\frac{sign(x_i - P)}{2} = 0\n",
    "$$\n",
    "\n",
    "\n"
   ]
  },
  {
   "cell_type": "markdown",
   "metadata": {},
   "source": [
    "$$\n",
    "P = \\sum_i \\frac{x_i}{n} - \\sum_i \\frac{sign(x_i - P)}{2n}\n",
    "$$\n",
    "\n",
    "$$\n",
    "P = \\bar{x} - \\frac{1}{n}\\sum_i \\frac{sign(x_i - P)}{2} \n",
    "$$"
   ]
  },
  {
   "cell_type": "markdown",
   "metadata": {},
   "source": [
    "This last term is guaranteed to be within +- 0.5, therefore the optimal position is either the term before the mean, the mean, or the term after the mean of the set. "
   ]
  },
  {
   "cell_type": "code",
   "execution_count": 14,
   "metadata": {},
   "outputs": [
    {
     "name": "stdout",
     "output_type": "stream",
     "text": [
      "align position: 470.0 | cost: 93006301.0\n",
      "align position: 471.0 | cost: 93006334.0\n",
      "align position: 472.0 | cost: 93007367.0\n",
      "best align position: 470.0 | best fuel cost: 93006301.0\n"
     ]
    }
   ],
   "source": [
    "def cost_for_position(x, p): return abs(x-p) * (abs(x-p) + 1) / 2\n",
    "\n",
    "# crab_positions = 16,1,2,0,4,2,7,1,2,14\n",
    "with open('input.txt', 'r') as file:\n",
    "    crab_positions = np.array(file.read().split(','), dtype=int)\n",
    "\n",
    "mean_position = np.round(np.mean(crab_positions))\n",
    "\n",
    "best_fuel_cost = None\n",
    "best_align_position = None\n",
    "for align_position in [mean_position-1, mean_position, mean_position+1]:\n",
    "    fuel_cost = 0\n",
    "    for position in crab_positions:\n",
    "        fuel_cost += cost_for_position(position, align_position)\n",
    "    print(f'align position: {align_position} | cost: {fuel_cost}')\n",
    "    if best_fuel_cost is None or best_fuel_cost > fuel_cost:\n",
    "        best_fuel_cost = fuel_cost\n",
    "        best_align_position = align_position\n",
    "    \n",
    "print(f'best align position: {best_align_position} | best fuel cost: {best_fuel_cost}')\n"
   ]
  },
  {
   "cell_type": "markdown",
   "metadata": {},
   "source": [
    "The answer was correct! And if we had just used the mean, then we would have gotten the wrong answer! "
   ]
  }
 ],
 "metadata": {
  "kernelspec": {
   "display_name": "Python 3.10.4 64-bit",
   "language": "python",
   "name": "python3"
  },
  "language_info": {
   "codemirror_mode": {
    "name": "ipython",
    "version": 3
   },
   "file_extension": ".py",
   "mimetype": "text/x-python",
   "name": "python",
   "nbconvert_exporter": "python",
   "pygments_lexer": "ipython3",
   "version": "3.10.4"
  },
  "orig_nbformat": 4,
  "vscode": {
   "interpreter": {
    "hash": "aee8b7b246df8f9039afb4144a1f6fd8d2ca17a180786b69acc140d282b71a49"
   }
  }
 },
 "nbformat": 4,
 "nbformat_minor": 2
}
