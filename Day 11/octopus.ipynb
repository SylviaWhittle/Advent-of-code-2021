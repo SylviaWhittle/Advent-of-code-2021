{
 "cells": [
  {
   "cell_type": "code",
   "execution_count": 15,
   "metadata": {},
   "outputs": [
    {
     "name": "stdout",
     "output_type": "stream",
     "text": [
      "['4472562264', '8631517827', '7232144146', '2447163824', '1235272671', '5133527146', '6511372417', '3841841614', '8621368782', '3246336677']\n",
      "[[4 4 7 2 5 6 2 2 6 4]\n",
      " [8 6 3 1 5 1 7 8 2 7]\n",
      " [7 2 3 2 1 4 4 1 4 6]\n",
      " [2 4 4 7 1 6 3 8 2 4]\n",
      " [1 2 3 5 2 7 2 6 7 1]\n",
      " [5 1 3 3 5 2 7 1 4 6]\n",
      " [6 5 1 1 3 7 2 4 1 7]\n",
      " [3 8 4 1 8 4 1 6 1 4]\n",
      " [8 6 2 1 3 6 8 7 8 2]\n",
      " [3 2 4 6 3 3 6 6 7 7]]\n",
      "\n",
      "all zero iteration: 212\n",
      "flash count: 3440\n"
     ]
    }
   ],
   "source": [
    "import numpy as np\n",
    "with open('input.txt') as file:\n",
    "    lines = file.read().split('\\n')\n",
    "print(lines)\n",
    "data = np.zeros((len(lines[0]), len(lines)),dtype=int)\n",
    "\n",
    "for i in range(data.shape[0]):\n",
    "    for j in range(data.shape[1]):\n",
    "        data[i, j] = lines[i][j]\n",
    "print(data)\n",
    "print('')\n",
    "\n",
    "flash_counter = 0\n",
    "\n",
    "def get_range(index):\n",
    "    lower = index - 1\n",
    "    upper = index + 2\n",
    "    if index == 0:\n",
    "        lower = index\n",
    "    elif index >= data.shape[0]-1:\n",
    "        upper =  index + 1\n",
    "    return(range(lower, upper))\n",
    "\n",
    "def flash(i, j):\n",
    "    global flash_counter\n",
    "    flash_counter += 1\n",
    "    data[i, j] = 0\n",
    "    for ii in get_range(i):\n",
    "        for jj in get_range(j):\n",
    "            if data[ii, jj] > 0:\n",
    "                data[ii, jj] += 1\n",
    "            if data[ii, jj] > 9:\n",
    "                flash(ii, jj)\n",
    "                \n",
    "\n",
    "# for iteration in range(100):\n",
    "iteration = 0\n",
    "all_is_zero = False\n",
    "while all_is_zero == False:\n",
    "    iteration += 1\n",
    "\n",
    "    for i in range(data.shape[0]):\n",
    "        for j in range(data.shape[1]):\n",
    "            data[i, j] += 1\n",
    "    \n",
    "    # print('')\n",
    "    # print('----')\n",
    "    # print(data)\n",
    "    # print('')\n",
    "\n",
    "    \n",
    "    for i in range(data.shape[0]):\n",
    "        for j in range(data.shape[1]):\n",
    "            if data[i, j] > 9:\n",
    "                flash(i, j)\n",
    "                \n",
    "    # print(data)\n",
    "    # print('----')\n",
    "\n",
    "    all_is_zero = not np.any(data)\n",
    "    \n",
    "print(f'all zero iteration: {iteration}')\n",
    "print(f'flash count: {flash_counter}')\n",
    "\n",
    "\n"
   ]
  }
 ],
 "metadata": {
  "kernelspec": {
   "display_name": "Python 3.10.7 ('venv': venv)",
   "language": "python",
   "name": "python3"
  },
  "language_info": {
   "codemirror_mode": {
    "name": "ipython",
    "version": 3
   },
   "file_extension": ".py",
   "mimetype": "text/x-python",
   "name": "python",
   "nbconvert_exporter": "python",
   "pygments_lexer": "ipython3",
   "version": "3.10.7"
  },
  "orig_nbformat": 4,
  "vscode": {
   "interpreter": {
    "hash": "293ddc6c65de6ff0fdaa8b30a25bb3628c22a567e77c4975393eac232c86f458"
   }
  }
 },
 "nbformat": 4,
 "nbformat_minor": 2
}
