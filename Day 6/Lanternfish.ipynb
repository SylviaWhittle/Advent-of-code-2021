{
 "cells": [
  {
   "cell_type": "code",
   "execution_count": 87,
   "metadata": {},
   "outputs": [
    {
     "name": "stdout",
     "output_type": "stream",
     "text": [
      "[3, 5, 2, 5, 4, 3, 2, 2, 3, 5, 2, 3, 2, 2, 2, 2, 3, 5, 3, 5, 5, 2, 2, 3, 4, 2, 3, 5, 5, 3, 3, 5, 2, 4, 5, 4, 3, 5, 3, 2, 5, 4, 1, 1, 1, 5, 1, 4, 1, 4, 3, 5, 2, 3, 2, 2, 2, 5, 2, 1, 2, 2, 2, 2, 3, 4, 5, 2, 5, 4, 1, 3, 1, 5, 5, 5, 3, 5, 3, 1, 5, 4, 2, 5, 3, 3, 5, 5, 5, 3, 2, 2, 1, 1, 3, 2, 1, 2, 2, 4, 3, 4, 1, 3, 4, 1, 2, 2, 4, 1, 3, 1, 4, 3, 3, 1, 2, 3, 1, 3, 4, 1, 1, 2, 5, 1, 2, 1, 2, 4, 1, 3, 2, 1, 1, 2, 4, 3, 5, 1, 3, 2, 1, 3, 2, 3, 4, 5, 5, 4, 1, 3, 4, 1, 2, 3, 5, 2, 3, 5, 2, 1, 1, 5, 5, 4, 4, 4, 5, 3, 3, 2, 5, 4, 4, 1, 5, 1, 5, 5, 5, 2, 2, 1, 2, 4, 5, 1, 2, 1, 4, 5, 4, 2, 4, 3, 2, 5, 2, 2, 1, 4, 3, 5, 4, 2, 1, 1, 5, 1, 4, 5, 1, 2, 5, 5, 1, 4, 1, 1, 4, 5, 2, 5, 3, 1, 4, 5, 2, 1, 3, 1, 3, 3, 5, 5, 1, 4, 1, 3, 2, 2, 3, 5, 4, 3, 2, 5, 1, 1, 1, 2, 2, 5, 3, 4, 2, 1, 3, 2, 5, 3, 2, 2, 3, 5, 2, 1, 4, 5, 4, 4, 5, 5, 3, 3, 5, 4, 5, 5, 4, 3, 5, 3, 5, 3, 1, 3, 2, 2, 1, 4, 4, 5, 2, 2, 4, 2, 1, 4]\n"
     ]
    }
   ],
   "source": [
    "days_to_compute = 256\n",
    "\n",
    "with open('lanternfish_day0.txt') as file:\n",
    "    rawData = file.read()\n",
    "\n",
    "lanternfish = [int(number) for number in rawData.split(',')]\n",
    "\n",
    "print(lanternfish)\n"
   ]
  },
  {
   "cell_type": "code",
   "execution_count": 64,
   "metadata": {},
   "outputs": [
    {
     "name": "stdout",
     "output_type": "stream",
     "text": [
      "starting lanternfish: 300\n",
      "day 80 lanternfish: 366253298\n"
     ]
    }
   ],
   "source": [
    "print(f'starting lanternfish: {len(lanternfish)}')\n",
    "# print(lanternfish)\n",
    "for i in range(days_to_compute):\n",
    "\n",
    "    # Decrease cooldown\n",
    "    lanternfish = [val - 1 for val in lanternfish]\n",
    "\n",
    "    # Add baby lanternfish\n",
    "    for i in range(lanternfish.count(-1)):\n",
    "        lanternfish.append(8)\n",
    "\n",
    "    # Reset cooldown for lanternfish\n",
    "    lanternfish = [6 if val == -1 else val for val in lanternfish]\n",
    "\n",
    "    # print(lanternfish)\n",
    "print(f'day {days_to_compute} lanternfish: {len(lanternfish)}')\n"
   ]
  },
  {
   "cell_type": "code",
   "execution_count": 88,
   "metadata": {},
   "outputs": [
    {
     "name": "stdout",
     "output_type": "stream",
     "text": [
      "[0, 57, 70, 58, 48, 67, 0, 0, 0]\n",
      "lanternfish after 256 days: 1569108373832\n"
     ]
    }
   ],
   "source": [
    "# This doesn't work for large numbers of days!\n",
    "# Found a concept called cyclic arrays. Instead of decreasing timers,\n",
    "# we can increase the 'number' for the day that it is.\n",
    "\n",
    "# Cooldown is between 0 and 8, so make 9 slots\n",
    "# Store the fish as the amount of fish on a particular cooldown\n",
    "cooldowns = [0] * 9\n",
    "for cooldown in lanternfish:\n",
    "    cooldowns[cooldown] += 1\n",
    "print(cooldowns)\n",
    "\n",
    "for i in range(days_to_compute):\n",
    "    # Calculate the day out of 8\n",
    "    day = i % 9\n",
    "\n",
    "    # Add the number of fish on this cooldown to the number of fish on\n",
    "    # the cooldown for 7 days' time. It's 7 and not 8 because it will be\n",
    "    # able to produce 7 days after the day that it appears in the array.\n",
    "    cooldowns[(day + 8 - 1) % 9] += cooldowns[day]\n",
    "    # print(f'day: {day}')\n",
    "    # print(cooldowns)\n",
    "\n",
    "print(f'lanternfish after {days_to_compute} days: {sum(cooldowns)}')\n"
   ]
  }
 ],
 "metadata": {
  "interpreter": {
   "hash": "aee8b7b246df8f9039afb4144a1f6fd8d2ca17a180786b69acc140d282b71a49"
  },
  "kernelspec": {
   "display_name": "Python 3.10.1 64-bit",
   "language": "python",
   "name": "python3"
  },
  "language_info": {
   "codemirror_mode": {
    "name": "ipython",
    "version": 3
   },
   "file_extension": ".py",
   "mimetype": "text/x-python",
   "name": "python",
   "nbconvert_exporter": "python",
   "pygments_lexer": "ipython3",
   "version": "3.10.1"
  },
  "orig_nbformat": 4
 },
 "nbformat": 4,
 "nbformat_minor": 2
}
