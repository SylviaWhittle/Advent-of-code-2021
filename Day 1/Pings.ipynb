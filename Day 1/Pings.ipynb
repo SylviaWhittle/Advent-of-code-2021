{
 "cells": [
  {
   "cell_type": "code",
   "execution_count": 87,
   "metadata": {},
   "outputs": [],
   "source": [
    "%reset"
   ]
  },
  {
   "cell_type": "code",
   "execution_count": 89,
   "metadata": {},
   "outputs": [
    {
     "name": "stdout",
     "output_type": "stream",
     "text": [
      "\n",
      "Path:\n",
      "['changes.txt', 'Pings.ipynb', 'pings.txt']\n",
      "c:\\Users\\sylvi\\Documents\\GitHub\\Advent-of-code-2021\\Day 1\n",
      "\n",
      "\n"
     ]
    }
   ],
   "source": [
    "import os \n",
    "print(\"\\nPath:\")\n",
    "print(os.listdir('.'))\n",
    "print(os.getcwd())\n",
    "print(\"\\n\")"
   ]
  },
  {
   "cell_type": "code",
   "execution_count": 90,
   "metadata": {},
   "outputs": [
    {
     "name": "stdout",
     "output_type": "stream",
     "text": [
      "Data loaded. Length: 9877\n",
      "0, 100\n",
      "1, 125\n",
      "2, 124\n",
      "3, 127\n",
      "4, 141\n",
      "5, 145\n",
      "6, 160\n",
      "7, 161\n",
      "8, 178\n",
      "9, 185\n",
      "increases: 1715 decreases: 284 maintains: 0\n"
     ]
    }
   ],
   "source": [
    "# Reading data from the file\n",
    "# the data is in the form of a newline-delimited text file.\n",
    "with open('pings.txt') as datafile:\n",
    "    contents = datafile.read()\n",
    "\n",
    "print(f'Data loaded. Length: {len(contents)}')\n",
    "\n",
    "# Function to determine the sign of a value\n",
    "sign = lambda a : (a>0) - (a<0)\n",
    "\n",
    "# Eliminate the \\n from the data\n",
    "data = contents.splitlines()\n",
    "\n",
    "# Print data head\n",
    "for index, value in enumerate(data[0:10]):\n",
    "    print(f'{index}, {value}')\n",
    "\n",
    "# Count the number of times that the depth measurement increases.\n",
    "increaseCount = 0\n",
    "decreaseCount = 0\n",
    "maintainCount = 0\n",
    "changes = [None] * (len(data))\n",
    "changes[0] = 'N/A - no previous measurement'\n",
    "old = int(data[0])\n",
    "# Starting from index 1, subtract the previous value and determine if the number has increased or decreased.\n",
    "for index in range(1,len(data)):\n",
    "    # Fetch the current value\n",
    "    new = int(data[index])\n",
    "\n",
    "    if(new - old > 0):\n",
    "        changes[index] = 'increase'\n",
    "        increaseCount += 1\n",
    "    elif(new - old < 0): \n",
    "        changes[index] = 'decrease'\n",
    "        decreaseCount += 1\n",
    "    elif(new - old == 0):\n",
    "        changes[index] = 'maintain'\n",
    "        maintainCount += 1\n",
    "\n",
    "    # Store the current value\n",
    "    old = new\n",
    "\n",
    "\n",
    "with open('changes.txt', 'r+') as changesfile:\n",
    "    _ = changesfile.read()\n",
    "    changesfile.seek(0)\n",
    "    changesfile.write(str(changes))\n",
    "    changesfile.truncate\n",
    "\n",
    "print(f'increases: {increaseCount} decreases: {decreaseCount} maintains: {maintainCount}')"
   ]
  },
  {
   "cell_type": "code",
   "execution_count": 91,
   "metadata": {},
   "outputs": [
    {
     "name": "stdout",
     "output_type": "stream",
     "text": [
      "Data length: 2000. Changes length: 2000\n",
      "0 100 N/A - no previous measurement\n",
      "1 125 increase\n",
      "2 124 decrease\n",
      "3 127 increase\n",
      "4 141 increase\n",
      "5 145 increase\n",
      "6 160 increase\n",
      "7 161 increase\n",
      "8 178 increase\n",
      "9 185 increase\n",
      "\n",
      "1990 9995 decrease\n",
      "1991 10024 increase\n",
      "1992 10025 increase\n",
      "1993 10026 increase\n",
      "1994 10028 increase\n",
      "1995 10040 increase\n",
      "1996 10041 increase\n",
      "1997 10040 decrease\n",
      "1998 10041 increase\n",
      "1999 10044 increase\n"
     ]
    }
   ],
   "source": [
    "print(f'Data length: {len(data)}. Changes length: {len(changes)}')\n",
    "\n",
    "# Print head of data and increase/decrease status\n",
    "for index, value in enumerate(data[0:10]):\n",
    "    print(f'{index} {value} {changes[index]}')\n",
    "\n",
    "print()\n",
    "\n",
    "length = len(data)\n",
    "for index in range(length - 10, length):\n",
    "    print(f'{index} {data[index]} {changes[index]}')\n"
   ]
  },
  {
   "cell_type": "code",
   "execution_count": 96,
   "metadata": {},
   "outputs": [
    {
     "name": "stdout",
     "output_type": "stream",
     "text": [
      "100 None\n",
      "125 None\n",
      "124 349\n",
      "127 376\n",
      "141 392\n",
      "145 413\n",
      "160 446\n",
      "161 466\n",
      "178 499\n",
      "\n",
      "10024 30015\n",
      "10025 30044\n",
      "10026 30075\n",
      "10028 30079\n",
      "10040 30094\n",
      "10041 30109\n",
      "10040 30121\n",
      "10041 30122\n",
      "10044 30125\n"
     ]
    }
   ],
   "source": [
    "import numpy as np\n",
    "\n",
    "# Convert all values in data to integers\n",
    "for index, value in enumerate(data):\n",
    "    data[index] = int(value)\n",
    "\n",
    "# Three measurement sliding window\n",
    "# The data from the previous set was too noisy, and so didn't give a very good representation of the topology trends.\n",
    "# Take a three-measurement sliding window to smooth the data.append\n",
    "\n",
    "sums = [None] * len(data)\n",
    "\n",
    "# Starting at the third value, calculate the sums of the previous 3 values for each value\n",
    "for i in range(2,len(data)):\n",
    "    sums[i] = np.sum(data[i-2:i+1])\n",
    "\n",
    "# Print the head and foot of the data and the sums.\n",
    "for i in range(9):\n",
    "    print(f'{data[i]} {sums[i]}')\n",
    "\n",
    "print()\n",
    "\n",
    "for i in range(len(data)-9,len(data)):\n",
    "    print(f'{data[i]} {sums[i]}')\n",
    "\n",
    "\n",
    "        "
   ]
  },
  {
   "cell_type": "code",
   "execution_count": 100,
   "metadata": {},
   "outputs": [
    {
     "name": "stdout",
     "output_type": "stream",
     "text": [
      "increase: 1739 decrease: 229 maintain: 29\n",
      "100 None None\n",
      "125 None None\n",
      "124 349 None\n",
      "127 376 increase\n",
      "141 392 increase\n",
      "145 413 increase\n",
      "160 446 increase\n",
      "161 466 increase\n",
      "178 499 increase\n",
      "\n",
      "10024 30015 increase\n",
      "10025 30044 increase\n",
      "10026 30075 increase\n",
      "10028 30079 increase\n",
      "10040 30094 increase\n",
      "10041 30109 increase\n",
      "10040 30121 increase\n",
      "10041 30122 increase\n",
      "10044 30125 increase\n"
     ]
    }
   ],
   "source": [
    "# Calculate the changes \n",
    "sumchanges = [None] * len(sums)\n",
    "sumIncrease = 0\n",
    "sumDecrease = 0\n",
    "sumMaintain = 0 \n",
    "\n",
    "for i in range(3, len(sums)):\n",
    "    sumchange = sums[i] - sums[i-1]\n",
    "    if(sumchange > 0):\n",
    "        sumchanges[i] = 'increase'\n",
    "        sumIncrease += 1\n",
    "    elif(sumchange < 0):\n",
    "        sumchanges[i] = 'decrease'\n",
    "        sumDecrease += 1\n",
    "    elif(sumchange == 0):\n",
    "        sumchanges[i] = 'maintain'\n",
    "        sumMaintain += 1\n",
    "\n",
    "print(f'increase: {sumIncrease} decrease: {sumDecrease} maintain: {sumMaintain}')\n",
    "\n",
    "# Print the head and foot of the data, sums and changes.\n",
    "for i in range(9):\n",
    "    print(f'{data[i]} {sums[i]} {sumchanges[i]}')\n",
    "\n",
    "print()\n",
    "\n",
    "for i in range(len(data)-9,len(data)):\n",
    "    print(f'{data[i]} {sums[i]} {sumchanges[i]}')\n"
   ]
  }
 ],
 "metadata": {
  "interpreter": {
   "hash": "5b1731e0e6fab58c15f4586f3f8582dae822219977d6ecd8bf61dfb9c36e7c34"
  },
  "kernelspec": {
   "display_name": "Python 3.9.7 64-bit",
   "language": "python",
   "name": "python3"
  },
  "language_info": {
   "codemirror_mode": {
    "name": "ipython",
    "version": 3
   },
   "file_extension": ".py",
   "mimetype": "text/x-python",
   "name": "python",
   "nbconvert_exporter": "python",
   "pygments_lexer": "ipython3",
   "version": "3.9.7"
  },
  "orig_nbformat": 4
 },
 "nbformat": 4,
 "nbformat_minor": 2
}
