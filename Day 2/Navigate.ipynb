{
 "cells": [
  {
   "cell_type": "code",
   "execution_count": 10,
   "metadata": {},
   "outputs": [],
   "source": [
    "%reset"
   ]
  },
  {
   "cell_type": "code",
   "execution_count": 7,
   "metadata": {},
   "outputs": [
    {
     "name": "stdout",
     "output_type": "stream",
     "text": [
      "horizontal: 1996 depth: 1022\n",
      "multiplied: 2039912\n"
     ]
    }
   ],
   "source": [
    "with open('Navigation.txt', 'r') as navfile:\n",
    "    navdata = navfile.read()\n",
    "\n",
    "splitNavdata = navdata.split('\\n')\n",
    "\n",
    "# Initialise positions\n",
    "horizontal = 0\n",
    "depth = 0\n",
    "\n",
    "for index, string in enumerate(splitNavdata):\n",
    "    commandInfo = string.split(\" \")\n",
    "    command = commandInfo[0]\n",
    "    magnitude = int(commandInfo[1])\n",
    "\n",
    "    if(command == 'forward'):\n",
    "        horizontal += magnitude\n",
    "    elif(command == 'down'):\n",
    "        depth += magnitude\n",
    "    elif(command == 'up'):\n",
    "        depth -= magnitude\n",
    "\n",
    "print(f'horizontal: {horizontal} depth: {depth}')\n",
    "\n",
    "print(f'multiplied: {horizontal * depth}')\n"
   ]
  },
  {
   "cell_type": "code",
   "execution_count": 12,
   "metadata": {},
   "outputs": [
    {
     "name": "stdout",
     "output_type": "stream",
     "text": [
      "horizontal: 1996 depth: 972980\n",
      "multiplied: 1942068080\n"
     ]
    }
   ],
   "source": [
    "# Part 2 - Aim\n",
    "\n",
    "with open('Navigation.txt', 'r') as navfile:\n",
    "    navdata = navfile.read()\n",
    "\n",
    "splitNavdata = navdata.split('\\n')\n",
    "\n",
    "# Initialise positions\n",
    "horizontal = 0\n",
    "depth = 0\n",
    "aim = 0\n",
    "\n",
    "for index, string in enumerate(splitNavdata):\n",
    "    commandInfo = string.split(\" \")\n",
    "    command = commandInfo[0]\n",
    "    magnitude = int(commandInfo[1])\n",
    "\n",
    "    if(command == 'forward'):\n",
    "        horizontal += magnitude\n",
    "        depth += aim * magnitude\n",
    "    elif(command == 'down'):\n",
    "        aim += magnitude\n",
    "    elif(command == 'up'):\n",
    "        aim -= magnitude\n",
    "\n",
    "print(f'horizontal: {horizontal} depth: {depth}')\n",
    "\n",
    "print(f'multiplied: {horizontal * depth}')"
   ]
  }
 ],
 "metadata": {
  "interpreter": {
   "hash": "5b1731e0e6fab58c15f4586f3f8582dae822219977d6ecd8bf61dfb9c36e7c34"
  },
  "kernelspec": {
   "display_name": "Python 3.9.7 64-bit",
   "language": "python",
   "name": "python3"
  },
  "language_info": {
   "codemirror_mode": {
    "name": "ipython",
    "version": 3
   },
   "file_extension": ".py",
   "mimetype": "text/x-python",
   "name": "python",
   "nbconvert_exporter": "python",
   "pygments_lexer": "ipython3",
   "version": "3.9.7"
  },
  "orig_nbformat": 4
 },
 "nbformat": 4,
 "nbformat_minor": 2
}
