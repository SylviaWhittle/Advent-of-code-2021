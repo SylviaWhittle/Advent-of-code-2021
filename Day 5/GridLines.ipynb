{
 "cells": [
  {
   "cell_type": "code",
   "execution_count": 16,
   "metadata": {},
   "outputs": [],
   "source": [
    "import numpy as np\n",
    "from PIL import Image as im"
   ]
  },
  {
   "cell_type": "code",
   "execution_count": 135,
   "metadata": {},
   "outputs": [
    {
     "name": "stdout",
     "output_type": "stream",
     "text": [
      "number of points: 18442\n"
     ]
    }
   ],
   "source": [
    "with open('lines') as file:\n",
    "    rawData = file.readlines()\n",
    "\n",
    "sizex = 1000\n",
    "sizey = 1000\n",
    "grid = np.zeros([sizex, sizey])\n",
    "for lineIndex, line in enumerate(rawData):\n",
    "    splitLine = line.split(' -> ')\n",
    "    splitLine[1] = splitLine[1].rstrip('\\n')\n",
    "    startcoords = splitLine[0].split(',')\n",
    "    pos1x = int(startcoords[0])\n",
    "    pos1y = int(startcoords[1])\n",
    "    endcoords = splitLine[1].split(',')\n",
    "    pos2x = int(endcoords[0])\n",
    "    pos2y = int(endcoords[1])\n",
    "\n",
    "    # print(f'{pos1x},{pos1y} {pos2x},{pos2y}')\n",
    "\n",
    "    # Fill the line in the matrix\n",
    "    dx = pos2x - pos1x\n",
    "    dy = pos2y - pos1y\n",
    "\n",
    "    # print(f'dx: {dx} dy: {dy}')\n",
    "\n",
    "    if dx == 0 and dy == 0:\n",
    "        print(f'both dx and dy are zero: {pos1x} {pos1y}  {pos2x} {pos2y}')\n",
    "\n",
    "    if dx == 0 or dy == 0:\n",
    "\n",
    "        # print(f'{dx} {dy}')\n",
    "\n",
    "        if dx != 0:\n",
    "            for i in range(abs(dx) + 1):\n",
    "                x = pos1x + np.sign(dx) * i\n",
    "                grid[x, pos1y] += 1\n",
    "\n",
    "        if dy != 0:\n",
    "            for j in range(abs(dy) + 1):\n",
    "                y = pos1y + np.sign(dy) * j\n",
    "                grid[pos1x, y] += 1\n",
    "\n",
    "    elif abs(dx) == abs(dy):\n",
    "        for i in range(abs(dx) + 1):\n",
    "            x = pos1x + np.sign(dx) * i\n",
    "            y = pos1y + np.sign(dy) * i\n",
    "            grid[x, y] += 1\n",
    "\n",
    "counter = 0\n",
    "for i in range(grid.shape[0]):\n",
    "    for j in range(grid.shape[1]):\n",
    "        value = grid[i, j]\n",
    "        if value >= 2:\n",
    "            counter += 1\n",
    "print(f'number of points: {counter}')\n",
    "\n",
    "\n",
    "np.savetxt('grid', grid, fmt='% 4d')\n",
    "\n",
    "img = im.new('RGB', [grid.shape[0], grid.shape[1]], 255)\n",
    "data = img.load()\n",
    "\n",
    "for i in range(img.size[0]):\n",
    "    for j in range(img.size[1]):\n",
    "        value = grid[i, j]\n",
    "        if value == 0:\n",
    "            data[i, j] = (0, 0, 0)\n",
    "        if value == 1:\n",
    "            data[i, j] = (255, 255, 255)\n",
    "        elif value == 2:\n",
    "            data[i, j] = (255, 255, 0)\n",
    "        elif value == 3: \n",
    "            data[i, j] = (255, 150, 0)\n",
    "        elif value == 4:\n",
    "            data[i, j] = (0, 255, 255)\n",
    "\n",
    "img.save('grid_image.png')\n",
    "\n",
    "\n",
    "\n"
   ]
  },
  {
   "cell_type": "code",
   "execution_count": 118,
   "metadata": {},
   "outputs": [],
   "source": [
    "for i in range(-1):\n",
    "    print(i)"
   ]
  }
 ],
 "metadata": {
  "interpreter": {
   "hash": "aee8b7b246df8f9039afb4144a1f6fd8d2ca17a180786b69acc140d282b71a49"
  },
  "kernelspec": {
   "display_name": "Python 3.10.1 64-bit",
   "language": "python",
   "name": "python3"
  },
  "language_info": {
   "codemirror_mode": {
    "name": "ipython",
    "version": 3
   },
   "file_extension": ".py",
   "mimetype": "text/x-python",
   "name": "python",
   "nbconvert_exporter": "python",
   "pygments_lexer": "ipython3",
   "version": "3.10.1"
  },
  "orig_nbformat": 4
 },
 "nbformat": 4,
 "nbformat_minor": 2
}
